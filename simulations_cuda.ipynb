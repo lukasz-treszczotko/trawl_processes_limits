{
 "cells": [
  {
   "cell_type": "markdown",
   "metadata": {},
   "source": [
    "# Trawl processes simulations"
   ]
  },
  {
   "cell_type": "code",
   "execution_count": 1,
   "metadata": {},
   "outputs": [],
   "source": [
    "from scipy.stats import levy_stable\n",
    "import matplotlib.pyplot as plt\n",
    "import numpy as np\n",
    "import torch\n",
    "from math import pi\n",
    "np.random.seed(seed=1)"
   ]
  },
  {
   "cell_type": "markdown",
   "metadata": {},
   "source": [
    "The matrix `F` has shape (u-dim, k-dim, timesteps)"
   ]
  },
  {
   "cell_type": "raw",
   "metadata": {},
   "source": [
    "N = 1000 # grid size\n",
    "n = 50 # number of timesteps\n",
    "M = 4 * N # extended grid size\n",
    "\n",
    "gamma = 0.3\n",
    "alpha = 1.9\n"
   ]
  },
  {
   "cell_type": "markdown",
   "metadata": {},
   "source": [
    "The Hurst exponent $H$ equals:"
   ]
  },
  {
   "cell_type": "code",
   "execution_count": 2,
   "metadata": {},
   "outputs": [],
   "source": [
    "class SaS_cuda():\n",
    "    def __init__(self, alpha):\n",
    "        self.alpha = alpha\n",
    "        \n",
    "    def rvs(self, size=None):\n",
    "        \"\"\" 'sample_shape is a tuple, array or list'\"\"\"\n",
    "        if size == None:\n",
    "            flattened = [1]\n",
    "        else: \n",
    "            flattened = np.prod(np.array(size))\n",
    "        u_1 = torch.cuda.FloatTensor((flattened)).uniform_()\n",
    "        u_2 = torch.cuda.FloatTensor((flattened)).uniform_()\n",
    "        gamma = u_1 * pi - pi/2\n",
    "        w = -torch.log(1-u_2)\n",
    "        A = torch.sin(self.alpha*gamma)/torch.pow(torch.cos(gamma), 1./self.alpha)\n",
    "        B = torch.pow(torch.cos(gamma-self.alpha*gamma)/w, (1-self.alpha)/self.alpha)\n",
    "        return (A*B).cpu().numpy().reshape(size)"
   ]
  },
  {
   "cell_type": "code",
   "execution_count": 3,
   "metadata": {},
   "outputs": [
    {
     "data": {
      "text/plain": [
       "(10, 10, 20)"
      ]
     },
     "execution_count": 3,
     "metadata": {},
     "output_type": "execute_result"
    }
   ],
   "source": [
    "test_dist = SaS_cuda(1.5)\n",
    "test_dist.rvs((10,10, 20)).shape"
   ]
  },
  {
   "cell_type": "code",
   "execution_count": 8,
   "metadata": {},
   "outputs": [],
   "source": [
    "class TrawlProcess:\n",
    "    def __init__(self, alpha, gamma, N=200, n=50, m=5, cuda=True):\n",
    "        assert(alpha > 1 and alpha <2)\n",
    "        assert(gamma > 0 and gamma <1)\n",
    "        assert(alpha > gamma + 1)\n",
    "        self.H = (alpha-gamma)/alpha\n",
    "        self.alpha = alpha\n",
    "        self.gamma = gamma\n",
    "        self.cuda = cuda\n",
    "        \n",
    "        self.M = m*N\n",
    "        self.N = N\n",
    "        self.n = n\n",
    "        self.scaling = np.power((1./(self.N**(2+self.gamma)*(1+self.gamma))), 1./self.alpha)\n",
    "    \n",
    "    def sample_paths(self, num_paths=1, plot=True):\n",
    "        \n",
    "        F = self._calculate_f()\n",
    "        S_scaled = np.power(self._calculate_scale(), 1./self.alpha)\n",
    "        if self.cuda:\n",
    "            stable_dist = SaS_cuda(self.alpha)\n",
    "        else: \n",
    "            stable_dist = levy_stable(self.alpha, 0.)\n",
    "            \n",
    "        paths = np.zeros((num_paths, self.n + 1))\n",
    "        for j in range(num_paths):\n",
    "            draw = stable_dist.rvs(size=(self.M, self.M))\n",
    "            samples = draw * S_scaled\n",
    "            #samples = samples.reshape(-1, 1, self.N, self.N)\n",
    "            time_samples =  samples * F\n",
    "            time_samples = self.scaling*time_samples\n",
    "            paths[j, 1:] = np.sum(time_samples, axis=(1,2))\n",
    "        if plot:\n",
    "            plt.style.use('seaborn-dark')\n",
    "            fig, ax = plt.subplots(1,1, figsize=(6,6))\n",
    "            ax.set_xlim(0,1)\n",
    "            ax.grid()\n",
    "            \n",
    "            for path in range(paths.shape[0]):\n",
    "                ax.plot(np.linspace(0,1, self.n+1), paths[path], \n",
    "                        label='path '+str(path))\n",
    "                if paths.shape[0] < 6:\n",
    "                    ax.legend()\n",
    "            plt.title(\"H = \" + str(np.around(self.H, decimals=3)))\n",
    "            plt.show()\n",
    "        return paths\n",
    "        \n",
    "    \n",
    "    def _calculate_scale(self):\n",
    "        S = np.zeros((self.M, self.M), dtype=np.float64)\n",
    "        for J in range(self.M):\n",
    "            if J != 0:\n",
    "                S[:, J] = (J**(-1-self.gamma) - (J+1)**(-1-self.gamma))\n",
    "        return S\n",
    "        \n",
    "    def _calculate_f(self):\n",
    "        F = np.zeros((self.M, self.M, self.n), dtype=np.float32)\n",
    "        for timestep in range(self.n):\n",
    "            # (K, J)\n",
    "            mask1 =np.triu(np.ones((self.M, self.M), dtype=np.bool)) # J >= K\n",
    "    \n",
    "            mask2 = np.zeros((self.M, self.M),  dtype=np.bool)\n",
    "            mask2[0: timestep*(self.N//self.n), :] = True # K < timestep * (N/n)\n",
    "            mask3 = np.triu(np.ones((self.M, self.M), dtype=np.bool), -timestep*(self.N//self.n)) # K - timestep (N/n) <= J\n",
    "            f = np.zeros((self.N,self.N), dtype=np.float64)\n",
    "    \n",
    "            m1 = mask1*mask2\n",
    "            f1 = np.zeros((self.M,self.M), dtype=np.float64)\n",
    "            # Get a matrix A1 with column values\n",
    "            A = np.array(range(self.M))\n",
    "            A = A.reshape(1,-1)\n",
    "            B = np.ones((self.M,1))\n",
    "            A1 = (B @ A) # A1.T[k,j] = k\n",
    "            f1 = A1.T * m1\n",
    "    \n",
    "            m2 = (~mask1) * mask2 # J < K and 0 <= k < timestep* N/n\n",
    "            f2 = m2 * A1 \n",
    "    \n",
    "            m3 = mask1 * (~mask2)\n",
    "            f3 = m3 * timestep*(self.N//self.n)\n",
    "    \n",
    "            m4 = (~mask1) * (~mask2) * mask3\n",
    "            f4 = (timestep * (self.N//self.n) + A1 - A1.T) * m4\n",
    "            f = f1 + f2 + f3 + f4\n",
    "            #print(f.shape)\n",
    "            F[:, :, timestep] = f\n",
    "        \n",
    "        F = np.transpose(F, (2,0,1))\n",
    "        return F\n",
    "   "
   ]
  },
  {
   "cell_type": "code",
   "execution_count": null,
   "metadata": {
    "scrolled": true
   },
   "outputs": [],
   "source": [
    "%%time\n",
    "trawl = TrawlProcess(1.8, 0.5, cuda=True)\n",
    "#print(trawl.H)\n",
    "S = trawl._calculate_scale()\n",
    "paths = trawl.sample_paths(num_paths=3)\n",
    "    "
   ]
  },
  {
   "cell_type": "markdown",
   "metadata": {},
   "source": [
    "## Tasting the F mapping"
   ]
  },
  {
   "cell_type": "code",
   "execution_count": 161,
   "metadata": {},
   "outputs": [],
   "source": [
    "n = 10\n",
    "N=100\n",
    "M=400\n",
    "alpha = 1.8\n",
    "gamma = 0.3\n",
    "scaling = np.power((1./(N**(2+gamma)*(1+gamma))), 1./alpha)\n",
    "F = np.zeros((M, M, n), dtype=np.float32)\n",
    "for timestep in range(1, n+1):\n",
    "    mask1 =np.triu(np.ones((M, M), dtype=np.bool)) # J >= K\n",
    "    mask2 = np.zeros((M, M),  dtype=np.bool)\n",
    "    mask2[0: timestep*(N//n), :] = True # K < timestep * (N/n)\n",
    "    \n",
    "    m1 = mask1*mask2\n",
    "    f1 = np.zeros((M,M), dtype=np.float64)\n",
    "    # Get a matrix A1 with column values\n",
    "    A = np.array(range(M))\n",
    "    A = A.reshape(1,-1)\n",
    "    B = np.ones((M,1))\n",
    "    A1 = (B @ A) # A1.T[k,j] = k\n",
    "    f1 = A1.T * m1\n",
    "    \n",
    "    m2 = (~mask1) * mask2 # J < K and 0 <= k < timestep* N/n\n",
    "    f2 = m2 * A1 \n",
    "    \n",
    "    m3 = mask1 * (~mask2)\n",
    "    f3 = m3 * timestep*(N//n)\n",
    "    \n",
    "    mask3 = np.triu(np.ones((M, M), dtype=np.bool), -timestep*(N//n)) # K - timestep (N/n) <= J\n",
    "    m4 = (~mask1) * (~mask2) * mask3\n",
    "    f4 = (timestep * (N//n) + A1 - A1.T) * m4\n",
    "    f = f1 + f2 + f3 + f4\n",
    "    F[:, :, timestep-1] = f\n",
    "    \n",
    "F = np.transpose(F, (2,0,1))"
   ]
  },
  {
   "cell_type": "code",
   "execution_count": 162,
   "metadata": {},
   "outputs": [
    {
     "data": {
      "text/plain": [
       "(10, 400, 400)"
      ]
     },
     "execution_count": 162,
     "metadata": {},
     "output_type": "execute_result"
    }
   ],
   "source": [
    "F.shape"
   ]
  },
  {
   "cell_type": "code",
   "execution_count": 163,
   "metadata": {
    "scrolled": true
   },
   "outputs": [
    {
     "data": {
      "text/plain": [
       "(0, 400)"
      ]
     },
     "execution_count": 163,
     "metadata": {},
     "output_type": "execute_result"
    },
    {
     "data": {
      "image/png": "[encoded data removed]",
      "text/plain": [
       "<Figure size 432x288 with 1 Axes>"
      ]
     },
     "metadata": {},
     "output_type": "display_data"
    }
   ],
   "source": [
    "plt.imshow(mask2.T)\n",
    "plt.xlim(0,M)\n",
    "plt.ylim(0,M)"
   ]
  },
  {
   "cell_type": "code",
   "execution_count": 164,
   "metadata": {
    "scrolled": true
   },
   "outputs": [
    {
     "data": {
      "text/plain": [
       "(0, 400)"
      ]
     },
     "execution_count": 164,
     "metadata": {},
     "output_type": "execute_result"
    },
    {
     "data": {
      "image/png": "[encoded data removed]",
      "text/plain": [
       "<Figure size 432x288 with 1 Axes>"
      ]
     },
     "metadata": {},
     "output_type": "display_data"
    }
   ],
   "source": [
    "plt.imshow(m1.T)\n",
    "plt.xlim(0,M)\n",
    "plt.ylim(0,M)"
   ]
  },
  {
   "cell_type": "code",
   "execution_count": 165,
   "metadata": {
    "scrolled": true
   },
   "outputs": [
    {
     "data": {
      "text/plain": [
       "(0, 400)"
      ]
     },
     "execution_count": 165,
     "metadata": {},
     "output_type": "execute_result"
    },
    {
     "data": {
      "image/png": "[encoded data removed]",
      "text/plain": [
       "<Figure size 432x288 with 1 Axes>"
      ]
     },
     "metadata": {},
     "output_type": "display_data"
    }
   ],
   "source": [
    "plt.imshow(f1.T)\n",
    "plt.xlim(0,M)\n",
    "plt.ylim(0,M)"
   ]
  },
  {
   "cell_type": "code",
   "execution_count": 166,
   "metadata": {
    "scrolled": true
   },
   "outputs": [
    {
     "data": {
      "text/plain": [
       "(0, 400)"
      ]
     },
     "execution_count": 166,
     "metadata": {},
     "output_type": "execute_result"
    },
    {
     "data": {
      "image/png": "[encoded data removed]",
      "text/plain": [
       "<Figure size 432x288 with 1 Axes>"
      ]
     },
     "metadata": {},
     "output_type": "display_data"
    }
   ],
   "source": [
    "plt.imshow(m2.T)\n",
    "plt.xlim(0,M)\n",
    "plt.ylim(0,M)"
   ]
  },
  {
   "cell_type": "code",
   "execution_count": 167,
   "metadata": {},
   "outputs": [
    {
     "data": {
      "text/plain": [
       "(0, 400)"
      ]
     },
     "execution_count": 167,
     "metadata": {},
     "output_type": "execute_result"
    },
    {
     "data": {
      "image/png": "[encoded data removed]",
      "text/plain": [
       "<Figure size 432x288 with 1 Axes>"
      ]
     },
     "metadata": {},
     "output_type": "display_data"
    }
   ],
   "source": [
    "plt.imshow(f2.T)\n",
    "plt.xlim(0,M)\n",
    "plt.ylim(0,M)"
   ]
  },
  {
   "cell_type": "code",
   "execution_count": 168,
   "metadata": {
    "scrolled": true
   },
   "outputs": [
    {
     "data": {
      "text/plain": [
       "(0, 400)"
      ]
     },
     "execution_count": 168,
     "metadata": {},
     "output_type": "execute_result"
    },
    {
     "data": {
      "image/png": "[encoded data removed]",
      "text/plain": [
       "<Figure size 432x288 with 1 Axes>"
      ]
     },
     "metadata": {},
     "output_type": "display_data"
    }
   ],
   "source": [
    "plt.imshow(f3.T)\n",
    "plt.xlim(0,M)\n",
    "plt.ylim(0,M)"
   ]
  },
  {
   "cell_type": "code",
   "execution_count": 169,
   "metadata": {
    "scrolled": true
   },
   "outputs": [
    {
     "data": {
      "text/plain": [
       "(0, 400)"
      ]
     },
     "execution_count": 169,
     "metadata": {},
     "output_type": "execute_result"
    },
    {
     "data": {
      "image/png": "[encoded data removed]",
      "text/plain": [
       "<Figure size 432x288 with 1 Axes>"
      ]
     },
     "metadata": {},
     "output_type": "display_data"
    }
   ],
   "source": [
    "plt.imshow(f4.T)\n",
    "plt.xlim(0,M)\n",
    "plt.ylim(0,M)"
   ]
  },
  {
   "cell_type": "code",
   "execution_count": 170,
   "metadata": {
    "scrolled": true
   },
   "outputs": [
    {
     "data": {
      "text/plain": [
       "(0, 400)"
      ]
     },
     "execution_count": 170,
     "metadata": {},
     "output_type": "execute_result"
    },
    {
     "data": {
      "image/png": "[encoded data removed]",
      "text/plain": [
       "<Figure size 432x288 with 1 Axes>"
      ]
     },
     "metadata": {},
     "output_type": "display_data"
    }
   ],
   "source": [
    "plt.imshow(f.T)\n",
    "plt.xlim(0,M)\n",
    "plt.ylim(0,M)"
   ]
  },
  {
   "cell_type": "code",
   "execution_count": 171,
   "metadata": {},
   "outputs": [
    {
     "data": {
      "text/plain": [
       "(0, 400)"
      ]
     },
     "execution_count": 171,
     "metadata": {},
     "output_type": "execute_result"
    },
    {
     "data": {
      "image/png": "[encoded data removed]",
      "text/plain": [
       "<Figure size 432x288 with 1 Axes>"
      ]
     },
     "metadata": {},
     "output_type": "display_data"
    }
   ],
   "source": [
    "plt.imshow(F[3, :, :].T)\n",
    "plt.xlim(0,M)\n",
    "plt.ylim(0,M)"
   ]
  },
  {
   "cell_type": "code",
   "execution_count": 172,
   "metadata": {},
   "outputs": [
    {
     "data": {
      "image/png": "[encoded data removed]",
      "text/plain": [
       "<Figure size 1440x576 with 10 Axes>"
      ]
     },
     "metadata": {},
     "output_type": "display_data"
    }
   ],
   "source": [
    "fig, axes = plt.subplots(n//2,2, figsize=(20,8))\n",
    "for j in range(n):\n",
    "    axes[j//2, j%2].imshow(F[j, :, :].T)\n",
    "    axes[j//2, j%2].set_xlim(0, M)\n",
    "    axes[j//2, j%2].set_ylim(0, M)\n",
    "#plt.tight_layout()\n",
    "    "
   ]
  },
  {
   "cell_type": "code",
   "execution_count": 173,
   "metadata": {},
   "outputs": [
    {
     "data": {
      "text/plain": [
       "(0, 5)"
      ]
     },
     "execution_count": 173,
     "metadata": {},
     "output_type": "execute_result"
    },
    {
     "data": {
      "image/png": "[encoded data removed]",
      "text/plain": [
       "<Figure size 432x288 with 1 Axes>"
      ]
     },
     "metadata": {},
     "output_type": "display_data"
    }
   ],
   "source": [
    "stable_dist = SaS_cuda(alpha)\n",
    "S = np.zeros((M, M), dtype=np.float64)\n",
    "for J in range(M):\n",
    "    if J != 0:\n",
    "        S[:, J] = (J**(-1-gamma) - (J+1)**(-1-gamma))\n",
    "S_scaled = np.power(S, 1./alpha)\n",
    "plt.imshow(S.T)\n",
    "plt.xlim(0,5)\n",
    "plt.ylim(0,5)"
   ]
  },
  {
   "cell_type": "code",
   "execution_count": 174,
   "metadata": {},
   "outputs": [],
   "source": [
    "draw = stable_dist.rvs(size=(M, M))\n",
    "samples = draw * S_scaled\n",
    "time_samples =  samples * F\n",
    "time_samples = scaling*time_samples\n"
   ]
  },
  {
   "cell_type": "code",
   "execution_count": 176,
   "metadata": {},
   "outputs": [
    {
     "data": {
      "text/plain": [
       "(10, 400, 400)"
      ]
     },
     "execution_count": 176,
     "metadata": {},
     "output_type": "execute_result"
    }
   ],
   "source": [
    "time_samples.shape"
   ]
  },
  {
   "cell_type": "code",
   "execution_count": null,
   "metadata": {},
   "outputs": [],
   "source": []
  }
 ],
 "metadata": {
  "kernelspec": {
   "display_name": "Python 3",
   "language": "python",
   "name": "python3"
  },
  "language_info": {
   "codemirror_mode": {
    "name": "ipython",
    "version": 3
   },
   "file_extension": ".py",
   "mimetype": "text/x-python",
   "name": "python",
   "nbconvert_exporter": "python",
   "pygments_lexer": "ipython3",
   "version": "3.6.7"
  }
 },
 "nbformat": 4,
 "nbformat_minor": 2
}
