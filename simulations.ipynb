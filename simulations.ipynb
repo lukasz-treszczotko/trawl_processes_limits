{
 "cells": [
  {
   "cell_type": "markdown",
   "metadata": {},
   "source": [
    "# Trawl processes simulations"
   ]
  },
  {
   "cell_type": "code",
   "execution_count": 1,
   "metadata": {},
   "outputs": [],
   "source": [
    "from scipy.stats import levy_stable\n",
    "import matplotlib.pyplot as plt\n",
    "import numpy as np"
   ]
  },
  {
   "cell_type": "markdown",
   "metadata": {},
   "source": [
    "The matrix `F` has shape (u-dim, k-dim, timesteps)"
   ]
  },
  {
   "cell_type": "code",
   "execution_count": 2,
   "metadata": {},
   "outputs": [],
   "source": [
    "N = 300 # grid size\n",
    "n = 100 # number of timesteps\n",
    "M = 4 * N # extended grid size\n",
    "\n",
    "gamma = 0.3\n",
    "alpha = 1.9\n"
   ]
  },
  {
   "cell_type": "markdown",
   "metadata": {},
   "source": [
    "The Hurst exponent $H$ equals:"
   ]
  },
  {
   "cell_type": "code",
   "execution_count": 3,
   "metadata": {
    "scrolled": true
   },
   "outputs": [
    {
     "data": {
      "text/plain": [
       "0.8421052631578947"
      ]
     },
     "execution_count": 3,
     "metadata": {},
     "output_type": "execute_result"
    }
   ],
   "source": [
    "(alpha-gamma)/alpha"
   ]
  },
  {
   "cell_type": "code",
   "execution_count": 21,
   "metadata": {},
   "outputs": [
    {
     "ename": "SyntaxError",
     "evalue": "invalid syntax (<ipython-input-21-7af74b7aa226>, line 1)",
     "output_type": "error",
     "traceback": [
      "\u001b[0;36m  File \u001b[0;32m\"<ipython-input-21-7af74b7aa226>\"\u001b[0;36m, line \u001b[0;32m1\u001b[0m\n\u001b[0;31m    def class():\u001b[0m\n\u001b[0m            ^\u001b[0m\n\u001b[0;31mSyntaxError\u001b[0m\u001b[0;31m:\u001b[0m invalid syntax\n"
     ]
    }
   ],
   "source": [
    "class: TrawlProcess:\n",
    "    def __init__(self, alpha, gamma, N=300, n=100, M=4*N):\n",
    "        self.H = (alpha-gamma)/alpha\n",
    "        self.alpha = alpha\n",
    "        self.gamma = gamma\n",
    "    \n",
    "    def sample_paths(self, num_paths=1):\n",
    "        \n",
    "    def _calculate_f(self)\n",
    "   "
   ]
  },
  {
   "cell_type": "code",
   "execution_count": 4,
   "metadata": {},
   "outputs": [
    {
     "data": {
      "text/plain": [
       "144000000"
      ]
     },
     "execution_count": 4,
     "metadata": {},
     "output_type": "execute_result"
    }
   ],
   "source": [
    "M*M*n"
   ]
  },
  {
   "cell_type": "code",
   "execution_count": 5,
   "metadata": {
    "scrolled": true
   },
   "outputs": [
    {
     "data": {
      "text/plain": [
       "array([[1, 1, 1, 1, 1, 1],\n",
       "       [1, 1, 1, 1, 1, 1],\n",
       "       [1, 1, 1, 1, 1, 1],\n",
       "       [1, 1, 1, 1, 1, 1],\n",
       "       [1, 1, 1, 1, 1, 1],\n",
       "       [1, 1, 1, 1, 1, 1]])"
      ]
     },
     "execution_count": 5,
     "metadata": {},
     "output_type": "execute_result"
    }
   ],
   "source": [
    "mask = np.ones((6, 6), dtype=int)\n",
    "mask"
   ]
  },
  {
   "cell_type": "code",
   "execution_count": 6,
   "metadata": {
    "scrolled": false
   },
   "outputs": [
    {
     "data": {
      "text/plain": [
       "array([[1, 1, 1, 1, 1, 1],\n",
       "       [0, 1, 1, 1, 1, 1],\n",
       "       [0, 0, 1, 1, 1, 1],\n",
       "       [0, 0, 0, 1, 1, 1],\n",
       "       [0, 0, 0, 0, 1, 1],\n",
       "       [0, 0, 0, 0, 0, 1]])"
      ]
     },
     "execution_count": 6,
     "metadata": {},
     "output_type": "execute_result"
    }
   ],
   "source": [
    "mask1 = np.triu(mask, 0)\n",
    "mask1"
   ]
  },
  {
   "cell_type": "code",
   "execution_count": 7,
   "metadata": {},
   "outputs": [
    {
     "data": {
      "text/plain": [
       "1"
      ]
     },
     "execution_count": 7,
     "metadata": {},
     "output_type": "execute_result"
    }
   ],
   "source": [
    "mask1[4,4]"
   ]
  },
  {
   "cell_type": "code",
   "execution_count": 8,
   "metadata": {
    "scrolled": true
   },
   "outputs": [
    {
     "data": {
      "text/plain": [
       "array([[1, 1, 1, 1, 1, 1],\n",
       "       [1, 1, 1, 1, 1, 1],\n",
       "       [1, 1, 1, 1, 1, 1],\n",
       "       [0, 1, 1, 1, 1, 1],\n",
       "       [0, 0, 1, 1, 1, 1],\n",
       "       [0, 0, 0, 1, 1, 1]])"
      ]
     },
     "execution_count": 8,
     "metadata": {},
     "output_type": "execute_result"
    }
   ],
   "source": [
    "mask3 = np.triu(mask, -2)\n",
    "mask3"
   ]
  },
  {
   "cell_type": "code",
   "execution_count": 9,
   "metadata": {
    "scrolled": true
   },
   "outputs": [
    {
     "data": {
      "text/plain": [
       "array([[ True,  True,  True, False, False, False],\n",
       "       [ True,  True,  True, False, False, False],\n",
       "       [ True,  True,  True, False, False, False],\n",
       "       [ True,  True,  True, False, False, False],\n",
       "       [ True,  True,  True, False, False, False],\n",
       "       [ True,  True,  True, False, False, False]])"
      ]
     },
     "execution_count": 9,
     "metadata": {},
     "output_type": "execute_result"
    }
   ],
   "source": [
    "mask2 = np.zeros((6, 6), dtype=bool)\n",
    "mask2[:, 0:3] = 1\n",
    "mask2"
   ]
  },
  {
   "cell_type": "code",
   "execution_count": 10,
   "metadata": {
    "scrolled": true
   },
   "outputs": [
    {
     "data": {
      "text/plain": [
       "array([[1, 1, 1, 0, 0, 0],\n",
       "       [0, 1, 1, 0, 0, 0],\n",
       "       [0, 0, 1, 0, 0, 0],\n",
       "       [0, 0, 0, 0, 0, 0],\n",
       "       [0, 0, 0, 0, 0, 0],\n",
       "       [0, 0, 0, 0, 0, 0]])"
      ]
     },
     "execution_count": 10,
     "metadata": {},
     "output_type": "execute_result"
    }
   ],
   "source": [
    "mask1*mask2"
   ]
  },
  {
   "cell_type": "code",
   "execution_count": 11,
   "metadata": {
    "scrolled": false
   },
   "outputs": [
    {
     "data": {
      "text/plain": [
       "array([[False, False, False,  True,  True,  True],\n",
       "       [False, False, False,  True,  True,  True],\n",
       "       [False, False, False,  True,  True,  True],\n",
       "       [False, False, False,  True,  True,  True],\n",
       "       [False, False, False,  True,  True,  True],\n",
       "       [False, False, False,  True,  True,  True]])"
      ]
     },
     "execution_count": 11,
     "metadata": {},
     "output_type": "execute_result"
    }
   ],
   "source": [
    "~mask2"
   ]
  },
  {
   "cell_type": "code",
   "execution_count": null,
   "metadata": {},
   "outputs": [],
   "source": []
  },
  {
   "cell_type": "code",
   "execution_count": 12,
   "metadata": {
    "scrolled": true
   },
   "outputs": [],
   "source": [
    "A = np.array(range(6))\n",
    "A = A.reshape(1, -1)\n",
    "B = np.ones((6, 1))\n",
    "#B = B.reshape(-1,1)\n",
    "C =B @ A\n",
    "D = C.T"
   ]
  },
  {
   "cell_type": "code",
   "execution_count": 13,
   "metadata": {
    "scrolled": false
   },
   "outputs": [
    {
     "data": {
      "text/plain": [
       "array([[ 0.,  1.,  2.,  3.,  4.,  5.],\n",
       "       [-1.,  0.,  1.,  2.,  3.,  4.],\n",
       "       [-2., -1.,  0.,  1.,  2.,  3.],\n",
       "       [-3., -2., -1.,  0.,  1.,  2.],\n",
       "       [-4., -3., -2., -1.,  0.,  1.],\n",
       "       [-5., -4., -3., -2., -1.,  0.]])"
      ]
     },
     "execution_count": 13,
     "metadata": {},
     "output_type": "execute_result"
    }
   ],
   "source": [
    "C - D"
   ]
  },
  {
   "cell_type": "code",
   "execution_count": 14,
   "metadata": {},
   "outputs": [],
   "source": [
    "from numba import jit"
   ]
  },
  {
   "cell_type": "code",
   "execution_count": 15,
   "metadata": {},
   "outputs": [
    {
     "name": "stdout",
     "output_type": "stream",
     "text": [
      "CPU times: user 17.6 s, sys: 19.9 s, total: 37.5 s\n",
      "Wall time: 11.6 s\n"
     ]
    }
   ],
   "source": [
    "%%time\n",
    "\n",
    "@jit()\n",
    "def calculate_f():\n",
    "    F = np.zeros((M, M, n), dtype=np.float32)\n",
    "    for timestep in range(n):\n",
    "        # (K, J)\n",
    "        mask1 =np.triu(np.ones((M, M), dtype=np.bool)) # J >= K\n",
    "    \n",
    "        mask2 = np.zeros((M, M),  dtype=np.bool)\n",
    "        mask2[0: timestep*(N//n), :] = True # K < timestep * (N/n)\n",
    "        mask3 = np.triu(np.ones((M, M), dtype=np.bool), -timestep*(N//n)) # K - timestep (N/n) <= J\n",
    "        f = np.zeros((N,N), dtype=np.float64)\n",
    "    \n",
    "        m1 = mask1*mask2\n",
    "        f1 = np.zeros((M,M), dtype=np.float64)\n",
    "        # Get a matrix A1 with column values\n",
    "        A = np.array(range(M))\n",
    "        A = A.reshape(1,-1)\n",
    "        B = np.ones((M,1))\n",
    "        A1 = (B @ A) # A1.T[k,j] = k\n",
    "        f1 = A1.T * m1\n",
    "    \n",
    "        m2 = (~mask1) * mask2 # J < K and 0 <= k < timestep* N/n\n",
    "        f2 = m2 * A1 \n",
    "    \n",
    "        m3 = mask1 * (~mask2)\n",
    "        f3 = m3 * timestep*(N//n)\n",
    "    \n",
    "        m4 = (~mask1) * (~mask2) * mask3\n",
    "        f4 = (timestep * (N//n) + A1 - A1.T) * m4\n",
    "        f = f1 + f2 + f3 + f4\n",
    "        #print(f.shape)\n",
    "        F[:, :, timestep] = f\n",
    "        \n",
    "    F = F.reshape(n, M, M)\n",
    "    return F\n",
    "\n",
    "F = calculate_f()\n"
   ]
  },
  {
   "cell_type": "code",
   "execution_count": 16,
   "metadata": {
    "scrolled": true
   },
   "outputs": [],
   "source": [
    "S = np.zeros((M, M), dtype=np.float64)\n",
    "for J in range(M):\n",
    "    if J != 0:\n",
    "        S[:, J] = (1./(N**(2+gamma)*(1+gamma))) * (J**(-1-gamma) - (J+1)**(-1-gamma))"
   ]
  },
  {
   "cell_type": "markdown",
   "metadata": {},
   "source": [
    "`S` is the matrix of scale factors"
   ]
  },
  {
   "cell_type": "markdown",
   "metadata": {},
   "source": [
    "### Simulate stable random variables"
   ]
  },
  {
   "cell_type": "code",
   "execution_count": 17,
   "metadata": {},
   "outputs": [],
   "source": [
    "@jit()\n",
    "def calculate_paths(num_paths=1):\n",
    "    stable_dist = levy_stable(alpha, 0.)\n",
    "    draw = stable_dist.rvs(size=(num_paths, M, M))\n",
    "    samples = draw * np.power(S, 1./alpha)\n",
    "    samples = samples.reshape(-1, 1, M, M)\n",
    "    time_samples =  samples * F\n",
    "    return np.sum(time_samples, axis=(2,3))"
   ]
  },
  {
   "cell_type": "code",
   "execution_count": 18,
   "metadata": {},
   "outputs": [
    {
     "name": "stdout",
     "output_type": "stream",
     "text": [
      "CPU times: user 4.16 s, sys: 2.39 s, total: 6.55 s\n",
      "Wall time: 6.55 s\n"
     ]
    }
   ],
   "source": [
    "%%time\n",
    "paths = calculate_paths(num_paths=4)"
   ]
  },
  {
   "cell_type": "code",
   "execution_count": 19,
   "metadata": {},
   "outputs": [
    {
     "data": {
      "text/plain": [
       "(4, 100)"
      ]
     },
     "execution_count": 19,
     "metadata": {},
     "output_type": "execute_result"
    }
   ],
   "source": [
    "paths.shape"
   ]
  },
  {
   "cell_type": "code",
   "execution_count": 20,
   "metadata": {},
   "outputs": [
    {
     "data": {
      "image/png": "[encoded data removed]",
      "text/plain": [
       "<Figure size 432x288 with 1 Axes>"
      ]
     },
     "metadata": {
      "needs_background": "light"
     },
     "output_type": "display_data"
    }
   ],
   "source": [
    "for path in range(paths.shape[0]):\n",
    "    plt.plot(np.linspace(0,1, n), paths[path])\n",
    "plt.show()"
   ]
  },
  {
   "cell_type": "code",
   "execution_count": null,
   "metadata": {},
   "outputs": [],
   "source": []
  }
 ],
 "metadata": {
  "kernelspec": {
   "display_name": "Python 3",
   "language": "python",
   "name": "python3"
  },
  "language_info": {
   "codemirror_mode": {
    "name": "ipython",
    "version": 3
   },
   "file_extension": ".py",
   "mimetype": "text/x-python",
   "name": "python",
   "nbconvert_exporter": "python",
   "pygments_lexer": "ipython3",
   "version": "3.6.7"
  }
 },
 "nbformat": 4,
 "nbformat_minor": 2
}
