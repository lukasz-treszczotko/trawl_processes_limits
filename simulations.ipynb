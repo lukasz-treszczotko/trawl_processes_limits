{
 "cells": [
  {
   "cell_type": "markdown",
   "metadata": {},
   "source": [
    "# Trawl processes simulations"
   ]
  },
  {
   "cell_type": "code",
   "execution_count": 1,
   "metadata": {},
   "outputs": [],
   "source": [
    "from scipy.stats import levy_stable\n",
    "import matplotlib.pyplot as plt\n",
    "import numpy as np"
   ]
  },
  {
   "cell_type": "markdown",
   "metadata": {},
   "source": [
    "The matrix `F` has shape (u-dim, k-dim, timesteps)"
   ]
  },
  {
   "cell_type": "code",
   "execution_count": 2,
   "metadata": {},
   "outputs": [],
   "source": [
    "N = 300 # grid size\n",
    "n = 100 # number of timesteps\n",
    "M = 4 * N # extended grid size\n",
    "\n",
    "gamma = 0.3\n",
    "alpha = 1.9\n"
   ]
  },
  {
   "cell_type": "markdown",
   "metadata": {},
   "source": [
    "The Hurst exponent $H$ equals:"
   ]
  },
  {
   "cell_type": "code",
   "execution_count": 3,
   "metadata": {
    "scrolled": true
   },
   "outputs": [
    {
     "data": {
      "text/plain": [
       "0.8421052631578947"
      ]
     },
     "execution_count": 3,
     "metadata": {},
     "output_type": "execute_result"
    }
   ],
   "source": [
    "(alpha-gamma)/alpha"
   ]
  },
  {
   "cell_type": "code",
   "execution_count": 66,
   "metadata": {},
   "outputs": [],
   "source": [
    "class TrawlProcess:\n",
    "    def __init__(self, alpha, gamma, N=1000, n=100, M=5*N):\n",
    "        self.H = (alpha-gamma)/alpha\n",
    "        self.alpha = alpha\n",
    "        self.gamma = gamma\n",
    "        self.M = M\n",
    "        self.N = N\n",
    "        self.n = n\n",
    "    \n",
    "    def sample_paths(self, num_paths=1, plot=True):\n",
    "        \n",
    "        F = self._calculate_f()\n",
    "        S = self._calculate_scale()\n",
    "        \n",
    "        stable_dist = levy_stable(alpha, 0.)\n",
    "        draw = stable_dist.rvs(size=(num_paths, self.M, self.M))\n",
    "        samples = draw * np.power(S, 1./self.alpha)\n",
    "        samples = samples.reshape(-1, 1, self.M, self.M)\n",
    "        time_samples =  samples * F\n",
    "        paths = np.zeros((num_paths, self.n + 1))\n",
    "        paths[:, 1:] = np.sum(time_samples, axis=(2,3))\n",
    "        if plot:\n",
    "            plt.style.use('seaborn-dark')\n",
    "            fig, ax = plt.subplots(1,1, figsize=(8,8))\n",
    "            ax.set_xlim(0,1)\n",
    "            ax.grid()\n",
    "            ax.legend([\"H = \" + str(self.H)])\n",
    "            for path in range(paths.shape[0]):\n",
    "                plt.plot(np.linspace(0,1, self.n+1), paths[path])\n",
    "            plt.legend([\"H = \" + str(np.around(self.H, decimals=3))])\n",
    "            plt.show()\n",
    "        return paths\n",
    "        \n",
    "    \n",
    "    def _calculate_scale(self):\n",
    "        S = np.zeros((self.M, self.M), dtype=np.float64)\n",
    "        for J in range(self.M):\n",
    "            if J != 0:\n",
    "                S[:, J] = (1./(self.N**(2+self.gamma)*(1+self.gamma))) * (J**(-1-self.gamma) - (J+1)**(-1-self.gamma))\n",
    "        return S\n",
    "        \n",
    "    def _calculate_f(self):\n",
    "        F = np.zeros((self.M, self.M, self.n), dtype=np.float32)\n",
    "        for timestep in range(self.n):\n",
    "            # (K, J)\n",
    "            mask1 =np.triu(np.ones((self.M, self.M), dtype=np.bool)) # J >= K\n",
    "    \n",
    "            mask2 = np.zeros((self.M, self.M),  dtype=np.bool)\n",
    "            mask2[0: timestep*(self.N//self.n), :] = True # K < timestep * (N/n)\n",
    "            mask3 = np.triu(np.ones((self.M, self.M), dtype=np.bool), -timestep*(self.N//self.n)) # K - timestep (N/n) <= J\n",
    "            f = np.zeros((N,N), dtype=np.float64)\n",
    "    \n",
    "            m1 = mask1*mask2\n",
    "            f1 = np.zeros((self.M,self.M), dtype=np.float64)\n",
    "            # Get a matrix A1 with column values\n",
    "            A = np.array(range(self.M))\n",
    "            A = A.reshape(1,-1)\n",
    "            B = np.ones((self.M,1))\n",
    "            A1 = (B @ A) # A1.T[k,j] = k\n",
    "            f1 = A1.T * m1\n",
    "    \n",
    "            m2 = (~mask1) * mask2 # J < K and 0 <= k < timestep* N/n\n",
    "            f2 = m2 * A1 \n",
    "    \n",
    "            m3 = mask1 * (~mask2)\n",
    "            f3 = m3 * timestep*(self.N//self.n)\n",
    "    \n",
    "            m4 = (~mask1) * (~mask2) * mask3\n",
    "            f4 = (timestep * (self.N//self.n) + A1 - A1.T) * m4\n",
    "            f = f1 + f2 + f3 + f4\n",
    "            #print(f.shape)\n",
    "            F[:, :, timestep] = f\n",
    "        \n",
    "        F = F.reshape(self.n, self.M, self.M)\n",
    "        return F\n",
    "   "
   ]
  },
  {
   "cell_type": "code",
   "execution_count": 69,
   "metadata": {},
   "outputs": [
    {
     "data": {
      "text/plain": [
       "0.8421052631578947"
      ]
     },
     "execution_count": 69,
     "metadata": {},
     "output_type": "execute_result"
    }
   ],
   "source": [
    "trawl = TrawlProcess(1.9, 0.3)\n",
    "trawl.H"
   ]
  },
  {
   "cell_type": "code",
   "execution_count": null,
   "metadata": {
    "scrolled": true
   },
   "outputs": [],
   "source": [
    "%%time\n",
    "paths = trawl.sample_paths(num_paths=1)\n",
    "paths.shape"
   ]
  },
  {
   "cell_type": "code",
   "execution_count": null,
   "metadata": {},
   "outputs": [],
   "source": []
  }
 ],
 "metadata": {
  "kernelspec": {
   "display_name": "Python 3",
   "language": "python",
   "name": "python3"
  },
  "language_info": {
   "codemirror_mode": {
    "name": "ipython",
    "version": 3
   },
   "file_extension": ".py",
   "mimetype": "text/x-python",
   "name": "python",
   "nbconvert_exporter": "python",
   "pygments_lexer": "ipython3",
   "version": "3.6.7"
  }
 },
 "nbformat": 4,
 "nbformat_minor": 2
}
